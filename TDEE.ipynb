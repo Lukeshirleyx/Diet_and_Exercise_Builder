{
 "nbformat": 4,
 "nbformat_minor": 2,
 "metadata": {
  "language_info": {
   "name": "python",
   "codemirror_mode": {
    "name": "ipython",
    "version": 3
   },
   "version": "3.7.6-final"
  },
  "orig_nbformat": 2,
  "file_extension": ".py",
  "mimetype": "text/x-python",
  "name": "python",
  "npconvert_exporter": "python",
  "pygments_lexer": "ipython3",
  "version": 3,
  "kernelspec": {
   "name": "python37364bitbaseconda5994b4e167854476be8aec73de17ebc4",
   "display_name": "Python 3.7.3 64-bit ('base': conda)"
  }
 },
 "cells": [
  {
   "cell_type": "code",
   "execution_count": 33,
   "metadata": {},
   "outputs": [
    {
     "name": "stdout",
     "output_type": "stream",
     "text": "1837.7363636363634\n2848.4913636363635\n"
    }
   ],
   "source": [
    "\n",
    "class TDEE:\n",
    "    sex = \"Male\"\n",
    "\n",
    "    weight = 170\n",
    "    height = 69\n",
    "    age = 24\n",
    "    activity_levels = {'Sedentary': 1.2, 'Lightly Active': 1.375, 'Moderately Active': 1.55, 'Very Active': 1.725, 'Extremely Active': 1.9 }\n",
    "\n",
    "    def __init__(self, weight, height, age, bmr):\n",
    "        self.weight = weight\n",
    "        self.height = height\n",
    "        self.age = age\n",
    "        self.bmr = bmr\n",
    "\n",
    "    def convert_to_metric(weight, height):\n",
    "        global mWeight\n",
    "        global mHeight\n",
    "        mWeight = weight / 2.2\n",
    "        mHeight = height * 2.54\n",
    "\n",
    "        return mWeight, mHeight\n",
    "\n",
    "    convert_to_metric(weight, height)\n",
    "\n",
    "    def bmrCalc(mWeight, mHeight, age):\n",
    "        global bmr\n",
    "        bmr = ((mHeight * 5) + (mWeight * 13.7) - (age * 6.8)) + 66\n",
    "        return bmr\n",
    "\n",
    "    bmrCalc(mWeight, mHeight, age)\n",
    "\n",
    "    print(bmr)\n",
    "\n",
    "    def tdeeCalc(bmr, activity_levels):\n",
    "        global tdee\n",
    "        activity_level = activity_levels['Moderately Active']\n",
    "        tdee = activity_level * bmr\n",
    "        return tdee\n",
    "\n",
    "    tdeeCalc(bmr, activity_levels)\n",
    "\n",
    "    print(tdee)\n",
    "\n"
   ]
  },
  {
   "cell_type": "code",
   "execution_count": 31,
   "metadata": {},
   "outputs": [
    {
     "name": "stdout",
     "output_type": "stream",
     "text": "2848.4913636363635\n"
    }
   ],
   "source": [
    "print(tdee)"
   ]
  },
  {
   "cell_type": "code",
   "execution_count": null,
   "metadata": {},
   "outputs": [],
   "source": []
  }
 ]
}