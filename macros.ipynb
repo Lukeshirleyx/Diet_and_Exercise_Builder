{
 "cells": [
  {
   "cell_type": "code",
   "execution_count": 3,
   "metadata": {},
   "outputs": [
    {
     "output_type": "stream",
     "name": "stdout",
     "text": "Your total daily energy expenditure is 2867.795909090909\nYour caloric intake should be 2367.795909090909\n207.18214204545453g of Protein\n92.080952020202g of Fats\n177.58469318181815g of Carbs\n"
    },
    {
     "output_type": "execute_result",
     "data": {
      "text/plain": "'def macroCalc(tdee):\\n    global protein\\n    global fats\\n    global carbs\\n'"
     },
     "metadata": {},
     "execution_count": 3
    }
   ],
   "source": [
    "from TDEE import tdee\n",
    "\n",
    "print(\"Your total daily energy expenditure is \" + str(tdee))\n",
    "\n",
    "goals = {'cut': -500, 'bulk': 500, 'maintain': 0 }\n",
    "\n",
    "goal = input(\"What is your goal? cut, bulk or maintain?\")\n",
    "\n",
    "# Define weight goal\n",
    "caloricIntake = tdee + goals[goal]\n",
    "\n",
    "print(\"Your caloric intake should be \" + str(caloricIntake))\n",
    "# Define Macronutrient ratio\n",
    "\n",
    "protein = (caloricIntake * .35) / 4\n",
    "fats = (caloricIntake * .35) / 9\n",
    "carbs = (caloricIntake * .30) / 4\n",
    "\n",
    "print(str(protein) + \"g of Protein\")\n",
    "print(str(fats) + \"g of Fats\")\n",
    "print(str(carbs) + \"g of Carbs\")\n",
    "\n",
    "\n",
    "\"\"\"def macroCalc(tdee):\n",
    "    global protein\n",
    "    global fats\n",
    "    global carbs\n",
    "\"\"\"\n",
    "\n"
   ]
  },
  {
   "cell_type": "code",
   "execution_count": null,
   "metadata": {},
   "outputs": [],
   "source": []
  }
 ],
 "metadata": {
  "language_info": {
   "name": "python",
   "codemirror_mode": {
    "name": "ipython",
    "version": 3
   },
   "version": "3.7.7-final"
  },
  "orig_nbformat": 2,
  "file_extension": ".py",
  "mimetype": "text/x-python",
  "name": "python",
  "npconvert_exporter": "python",
  "pygments_lexer": "ipython3",
  "version": 3,
  "kernelspec": {
   "name": "python37364bitbaseconda5994b4e167854476be8aec73de17ebc4",
   "display_name": "Python 3.7.3 64-bit ('base': conda)"
  }
 },
 "nbformat": 4,
 "nbformat_minor": 2
}