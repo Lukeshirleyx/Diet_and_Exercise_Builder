{
 "cells": [
  {
   "cell_type": "code",
   "execution_count": 5,
   "metadata": {},
   "outputs": [
    {
     "output_type": "stream",
     "name": "stdout",
     "text": "Your total daily energy expenditure is 2717.3\nYour caloric intake should be 2173.8\n190.2g of Protein\n84.5g of Fat\n163.0g of Carbs\n"
    },
    {
     "output_type": "execute_result",
     "data": {
      "text/plain": "'def macroCalc(tdee):\\n    global protein\\n    global fats\\n    global carbs\\n'"
     },
     "metadata": {},
     "execution_count": 5
    }
   ],
   "source": [
    "from TDEE import tdee\n",
    "\n",
    "print(f\"Your total daily energy expenditure is {tdee:.1f}\")\n",
    "\n",
    "goals = {'cut': -.2, 'bulk': .2, 'maintain': 1 }\n",
    "\n",
    "goal = input(\"What is your goal? cut, bulk or maintain?\")\n",
    "\n",
    "# Define weight goal\n",
    "caloricIntake = tdee * goals[goal] + tdee\n",
    "\n",
    "print(f\"Your caloric intake should be {caloricIntake:.1f}\")\n",
    "# Define Macronutrient ratio\n",
    "\n",
    "protein = (caloricIntake * .35) / 4\n",
    "fat = (caloricIntake * .35) / 9\n",
    "carbs = (caloricIntake * .30) / 4\n",
    "\n",
    "\n",
    "print(f\"{protein:.1f}g of Protein\")\n",
    "print(f\"{fat:.1f}g of Fat\")\n",
    "print(f\"{carbs:.1f}g of Carbs\")\n",
    "\n",
    "\n",
    "\"\"\"def macroCalc(tdee):\n",
    "    global protein\n",
    "    global fats\n",
    "    global carbs\n",
    "\"\"\"\n",
    "\n"
   ]
  },
  {
   "cell_type": "code",
   "execution_count": null,
   "metadata": {},
   "outputs": [],
   "source": []
  }
 ],
 "metadata": {
  "language_info": {
   "name": "python",
   "codemirror_mode": {
    "name": "ipython",
    "version": 3
   },
   "version": "3.7.7-final"
  },
  "orig_nbformat": 2,
  "file_extension": ".py",
  "mimetype": "text/x-python",
  "name": "python",
  "npconvert_exporter": "python",
  "pygments_lexer": "ipython3",
  "version": 3,
  "kernelspec": {
   "name": "python37364bitbaseconda5994b4e167854476be8aec73de17ebc4",
   "display_name": "Python 3.7.3 64-bit ('base': conda)"
  }
 },
 "nbformat": 4,
 "nbformat_minor": 2
}