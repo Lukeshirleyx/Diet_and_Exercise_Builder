{
 "nbformat": 4,
 "nbformat_minor": 2,
 "metadata": {
  "language_info": {
   "name": "python",
   "codemirror_mode": {
    "name": "ipython",
    "version": 3
   },
<<<<<<< HEAD
   "version": "3.7.4-final"
=======
   "version": "3.7.6-final"
>>>>>>> d4327b9bb16a7f52e3e11e1cfbf814fc93b6295f
  },
  "orig_nbformat": 2,
  "file_extension": ".py",
  "mimetype": "text/x-python",
  "name": "python",
  "npconvert_exporter": "python",
  "pygments_lexer": "ipython3",
  "version": 3,
  "kernelspec": {
<<<<<<< HEAD
   "name": "python3",
   "display_name": "Python 3"
=======
   "name": "python37664bitbasecondaf70dc1191ba9448ea01a1fe3a7a2fec2",
   "display_name": "Python 3.7.6 64-bit ('base': conda)"
>>>>>>> d4327b9bb16a7f52e3e11e1cfbf814fc93b6295f
  }
 },
 "cells": [
  {
   "cell_type": "code",
<<<<<<< HEAD
   "execution_count": 8,
=======
   "execution_count": 1,
>>>>>>> d4327b9bb16a7f52e3e11e1cfbf814fc93b6295f
   "metadata": {},
   "outputs": [
    {
     "name": "stdout",
     "output_type": "stream",
<<<<<<< HEAD
     "text": "22%\n\nWhat is your body fat percentage roughly\n"
=======
     "text": "90\n"
>>>>>>> d4327b9bb16a7f52e3e11e1cfbf814fc93b6295f
    }
   ],
   "source": [
    "\n",
    "# Macronutrient calculator\n",
    "\n",
    "weight = input(\"How much do you weight?\")\n",
    "\n",
<<<<<<< HEAD
    "#protein =\n",
    "\n",
    "print(weight)\n",
    "\n",
    "height = input(\"How tall are you\")\n",
    "\n",
    "print(height)\n",
    "\n",
    "bfi = (\"What is your body fat percentage roughly\")\n",
    "\n",
    "print(bfi)\n",
    "\n",
    "#fat = \n",
    "\n",
    "#carbs = \n",
    "\n",
    "\n",
    "\n",
    "\n",
    "\n",
    "\n"
=======
    "# protein = \n",
    "\n",
    "print(weight)\n"
>>>>>>> d4327b9bb16a7f52e3e11e1cfbf814fc93b6295f
   ]
  },
  {
   "cell_type": "code",
   "execution_count": null,
   "metadata": {},
   "outputs": [],
   "source": []
  }
 ]
}