{
 "nbformat": 4,
 "nbformat_minor": 2,
 "metadata": {
  "language_info": {
   "name": "python",
   "codemirror_mode": {
    "name": "ipython",
    "version": 3
   },
   "version": "3.7.4-final"
  },
  "orig_nbformat": 2,
  "file_extension": ".py",
  "mimetype": "text/x-python",
  "name": "python",
  "npconvert_exporter": "python",
  "pygments_lexer": "ipython3",
  "version": 3,
  "kernelspec": {
   "name": "python3",
   "display_name": "Python 3"
  }
 },
 "cells": [
  {
   "cell_type": "code",
   "execution_count": 8,
   "metadata": {},
   "outputs": [
    {
     "name": "stdout",
     "output_type": "stream",
     "text": "22%\n\nWhat is your body fat percentage roughly\n"
    }
   ],
   "source": [
    "\n",
    "# Macronutrient calculator\n",
    "\n",
    "weight = input(\"How much do you weight?\")\n",
    "\n",
    "#protein =\n",
    "\n",
    "print(weight)\n",
    "\n",
    "height = input(\"How tall are you\")\n",
    "\n",
    "print(height)\n",
    "\n",
    "bfi = (\"What is your body fat percentage roughly\")\n",
    "\n",
    "print(bfi)\n",
    "\n",
    "#fat = \n",
    "\n",
    "#carbs = \n",
    "\n",
    "\n",
    "\n",
    "\n",
    "\n",
    "\n"
   ]
  },
  {
   "cell_type": "code",
   "execution_count": null,
   "metadata": {},
   "outputs": [],
   "source": []
  }
 ]
}