{
 "nbformat": 4,
 "nbformat_minor": 2,
 "metadata": {
  "language_info": {
   "name": "python",
   "codemirror_mode": {
    "name": "ipython",
    "version": 3
   },
   "version": "3.7.6-final"
  },
  "orig_nbformat": 2,
  "file_extension": ".py",
  "mimetype": "text/x-python",
  "name": "python",
  "npconvert_exporter": "python",
  "pygments_lexer": "ipython3",
  "version": 3,
  "kernelspec": {
   "name": "python37364bitbaseconda5994b4e167854476be8aec73de17ebc4",
   "display_name": "Python 3.7.3 64-bit ('base': conda)"
  }
 },
 "cells": [
  {
   "cell_type": "code",
   "execution_count": 1,
   "metadata": {},
   "outputs": [
    {
     "name": "stdout",
     "output_type": "stream",
     "text": "5\n5\nWhat is your body fat percentage roughly\n"
    }
   ],
   "source": [
    "# Macronutrient calculator\n",
    "\n",
    "weight = input(\"How much do you weight?\")\n",
    "\n",
    "#protein =\n",
    "\n",
    "print(weight)\n",
    "\n",
    "height = input(\"How tall are you\")\n",
    "\n",
    "print(height)\n",
    "\n",
    "bfi = (\"What is your body fat percentage roughly\")\n",
    "\n",
    "print(bfi)\n",
    "\n",
    "#fat = \n",
    "\n",
    "#carbs = \n"
   ]
  },
  {
   "cell_type": "code",
   "execution_count": 8,
   "metadata": {},
   "outputs": [
    {
     "name": "stdout",
     "output_type": "stream",
     "text": "2848.4913636363635\n"
    }
   ],
   "source": [
    "from TDEE import tdee\n",
    "\n",
    "print(tdee)\n",
    "\n",
    "def macroCalc(tdee):\n",
    "    global protein\n",
    "    global fats\n",
    "    global carbs\n",
    "    protein = "
   ]
  },
  {
   "cell_type": "code",
   "execution_count": null,
   "metadata": {},
   "outputs": [],
   "source": []
  }
 ]
}