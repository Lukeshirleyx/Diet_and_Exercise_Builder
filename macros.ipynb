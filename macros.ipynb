{
 "cells": [
  {
   "cell_type": "code",
   "execution_count": 2,
   "metadata": {},
   "outputs": [
    {
     "output_type": "stream",
     "name": "stdout",
     "text": "Your total daily energy expenditure is 2848.5\nYour caloric intake should be 2348.5\n205.5g of Protein\n91.3g of Fat\n176.1g of Carbs\n"
    },
    {
     "output_type": "execute_result",
     "data": {
      "text/plain": "'def macroCalc(tdee):\\n    global protein\\n    global fats\\n    global carbs\\n'"
     },
     "metadata": {},
     "execution_count": 2
    }
   ],
   "source": [
    "from TDEE import tdee\n",
    "\n",
    "print(f\"Your total daily energy expenditure is {tdee:.1f}\")\n",
    "\n",
    "goals = {'cut': -500, 'bulk': 500, 'maintain': 0 }\n",
    "\n",
    "goal = input(\"What is your goal? cut, bulk or maintain?\")\n",
    "\n",
    "# Define weight goal\n",
    "caloricIntake = tdee + goals[goal]\n",
    "\n",
    "print(f\"Your caloric intake should be {caloricIntake:.1f}\")\n",
    "# Define Macronutrient ratio\n",
    "\n",
    "protein = (caloricIntake * .35) / 4\n",
    "fat = (caloricIntake * .35) / 9\n",
    "carbs = (caloricIntake * .30) / 4\n",
    "\n",
    "\n",
    "print(f\"{protein:.1f}g of Protein\")\n",
    "print(f\"{fat:.1f}g of Fat\")\n",
    "print(f\"{carbs:.1f}g of Carbs\")\n",
    "\n",
    "\n",
    "\"\"\"def macroCalc(tdee):\n",
    "    global protein\n",
    "    global fats\n",
    "    global carbs\n",
    "\"\"\"\n",
    "\n"
   ]
  },
  {
   "cell_type": "code",
   "execution_count": null,
   "metadata": {},
   "outputs": [],
   "source": []
  }
 ],
 "metadata": {
  "language_info": {
   "name": "python",
   "codemirror_mode": {
    "name": "ipython",
    "version": 3
   },
   "version": "3.7.7-final"
  },
  "orig_nbformat": 2,
  "file_extension": ".py",
  "mimetype": "text/x-python",
  "name": "python",
  "npconvert_exporter": "python",
  "pygments_lexer": "ipython3",
  "version": 3,
  "kernelspec": {
   "name": "python37364bitbaseconda5994b4e167854476be8aec73de17ebc4",
   "display_name": "Python 3.7.3 64-bit ('base': conda)"
  }
 },
 "nbformat": 4,
 "nbformat_minor": 2
}